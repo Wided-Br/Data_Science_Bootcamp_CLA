{
 "cells": [
  {
   "cell_type": "markdown",
   "metadata": {},
   "source": [
    "<img src=\"Logo.png\" width=\"100\" align=\"left\"/> \n",
    "\n",
    "# <center>Data Analytics project:</center>\n",
    "\n",
    "\n",
    "\n",
    "Congratulations on finishing the lessons content for this second unit !\n",
    "\n",
    "We have seen a lot of concepts in the second unit and we had the chance to test some of them. Now, we get to see how these different concepts are used to better understand our data."
   ]
  },
  {
   "cell_type": "markdown",
   "metadata": {},
   "source": [
    "## Some guidelines: \n",
    "1. To run a cell you can use the shortcut use : Shift + Enter\n",
    "\n",
    "2. Only sections mentioned as To-Do are the places where you should put in your own code other than that we do not recommend that you change the provided code.\n",
    "\n",
    "3. You will be graded for the visibility of your code so make sure you respect the correct indentation and that your code contains suitable variables names.\n",
    "\n",
    "4. This notebook is designed in a sequential way so if you solve your project on different days make sure to run the previous cells before you can run the one you want.\n",
    "\n",
    "5. Teacher assistants in the slack space remain available to answer any questions you might have.\n",
    "\n",
    ">Best of luck ! "
   ]
  },
  {
   "cell_type": "markdown",
   "metadata": {},
   "source": [
    "## Project Sections:\n",
    "In this project you will practice some of the concepts seen in the data analytics unit, you will deal with a real dataset. This dataset contains house sale prices for King County. It includes homes sold between May 2014 and May 2015.\n",
    "\n",
    "Our goal is to analyze this dataset, clean it then create a simple linear regression model using it.\n",
    "\n",
    "This project is devided into n sections : \n",
    "1. [Setting the environement](#set_env)\n",
    "\n",
    "2. [Importing necessary tools](#importing)\n",
    "\n",
    "3. [Dataset discovery](#dataset_discovery)\n",
    "\n",
    "4. [NA handling](#na_handling)\n",
    "\n",
    "5. [Useless variables deletion](#useless_var)\n",
    "\n",
    "6. [Outliers detection](#outliers)\n",
    "\n",
    "7. [Feature selection](#feature_selection)\n",
    "\n",
    "8. [Linear regression](#linear_reg)"
   ]
  },
  {
   "cell_type": "markdown",
   "metadata": {},
   "source": [
    "### 1. Setting the environement:  <a id='set_env'></a>"
   ]
  },
  {
   "cell_type": "code",
   "execution_count": 1,
   "metadata": {},
   "outputs": [
    {
     "name": "stdout",
     "output_type": "stream",
     "text": [
      "Requirement already satisfied: virtualenv in c:\\users\\admin\\appdata\\roaming\\python\\python39\\site-packages (20.10.0)\n",
      "Requirement already satisfied: distlib<1,>=0.3.1 in c:\\users\\admin\\appdata\\roaming\\python\\python39\\site-packages (from virtualenv) (0.3.3)\n",
      "Requirement already satisfied: backports.entry-points-selectable>=1.0.4 in c:\\users\\admin\\appdata\\roaming\\python\\python39\\site-packages (from virtualenv) (1.1.1)\n",
      "Requirement already satisfied: filelock<4,>=3.2 in c:\\users\\admin\\appdata\\roaming\\python\\python39\\site-packages (from virtualenv) (3.3.2)\n",
      "Requirement already satisfied: six<2,>=1.9.0 in c:\\users\\admin\\appdata\\local\\programs\\python\\python39\\lib\\site-packages (from virtualenv) (1.16.0)\n",
      "Requirement already satisfied: platformdirs<3,>=2 in c:\\users\\admin\\appdata\\roaming\\python\\python39\\site-packages (from virtualenv) (2.4.0)\n"
     ]
    }
   ],
   "source": [
    "# Make sure you have virtualenv installed \n",
    "!pip install --user virtualenv"
   ]
  },
  {
   "cell_type": "code",
   "execution_count": 2,
   "metadata": {},
   "outputs": [],
   "source": [
    "# To-Do: create a virtual environement called data_analytics\n",
    "!python -m venv data_analytics"
   ]
  },
  {
   "cell_type": "code",
   "execution_count": 3,
   "metadata": {},
   "outputs": [],
   "source": [
    "# Activate the environement for windows\n",
    "!data_analytics\\Scripts\\activate"
   ]
  },
  {
   "cell_type": "markdown",
   "metadata": {},
   "source": [
    "### 2. Importing necessary tools:<a id='importing'></a>"
   ]
  },
  {
   "cell_type": "code",
   "execution_count": 4,
   "metadata": {},
   "outputs": [],
   "source": [
    "import pandas as pd\n",
    "import matplotlib.pyplot as plt\n",
    "import seaborn as sns"
   ]
  },
  {
   "cell_type": "markdown",
   "metadata": {},
   "source": [
    "### 3. Dataset discovery:<a id='dataset_discovery'></a>"
   ]
  },
  {
   "cell_type": "code",
   "execution_count": 5,
   "metadata": {},
   "outputs": [
    {
     "data": {
      "text/html": [
       "<div>\n",
       "<style scoped>\n",
       "    .dataframe tbody tr th:only-of-type {\n",
       "        vertical-align: middle;\n",
       "    }\n",
       "\n",
       "    .dataframe tbody tr th {\n",
       "        vertical-align: top;\n",
       "    }\n",
       "\n",
       "    .dataframe thead th {\n",
       "        text-align: right;\n",
       "    }\n",
       "</style>\n",
       "<table border=\"1\" class=\"dataframe\">\n",
       "  <thead>\n",
       "    <tr style=\"text-align: right;\">\n",
       "      <th></th>\n",
       "      <th>id</th>\n",
       "      <th>date</th>\n",
       "      <th>price</th>\n",
       "      <th>bedrooms</th>\n",
       "      <th>bathrooms</th>\n",
       "      <th>sqft_living</th>\n",
       "      <th>sqft_lot</th>\n",
       "      <th>floors</th>\n",
       "      <th>waterfront</th>\n",
       "      <th>view</th>\n",
       "      <th>condition</th>\n",
       "      <th>grade</th>\n",
       "      <th>sqft_above</th>\n",
       "      <th>sqft_basement</th>\n",
       "      <th>yr_built</th>\n",
       "      <th>yr_renovated</th>\n",
       "      <th>zipcode</th>\n",
       "      <th>lat</th>\n",
       "      <th>long</th>\n",
       "      <th>sqft_living15</th>\n",
       "      <th>sqft_lot15</th>\n",
       "    </tr>\n",
       "  </thead>\n",
       "  <tbody>\n",
       "    <tr>\n",
       "      <th>0</th>\n",
       "      <td>7129300520</td>\n",
       "      <td>20141013T000000</td>\n",
       "      <td>221900.0</td>\n",
       "      <td>3</td>\n",
       "      <td>1.00</td>\n",
       "      <td>1180.0</td>\n",
       "      <td>5650.0</td>\n",
       "      <td>1.0</td>\n",
       "      <td>0</td>\n",
       "      <td>0</td>\n",
       "      <td>3</td>\n",
       "      <td>7</td>\n",
       "      <td>1180.0</td>\n",
       "      <td>0</td>\n",
       "      <td>1955.0</td>\n",
       "      <td>0.0</td>\n",
       "      <td>98178.0</td>\n",
       "      <td>47.5112</td>\n",
       "      <td>-122.257</td>\n",
       "      <td>1340.0</td>\n",
       "      <td>5650</td>\n",
       "    </tr>\n",
       "    <tr>\n",
       "      <th>1</th>\n",
       "      <td>6414100192</td>\n",
       "      <td>20141209T000000</td>\n",
       "      <td>538000.0</td>\n",
       "      <td>3</td>\n",
       "      <td>2.25</td>\n",
       "      <td>2570.0</td>\n",
       "      <td>7242.0</td>\n",
       "      <td>2.0</td>\n",
       "      <td>0</td>\n",
       "      <td>0</td>\n",
       "      <td>3</td>\n",
       "      <td>7</td>\n",
       "      <td>2170.0</td>\n",
       "      <td>400</td>\n",
       "      <td>1951.0</td>\n",
       "      <td>1991.0</td>\n",
       "      <td>98125.0</td>\n",
       "      <td>47.7210</td>\n",
       "      <td>-122.319</td>\n",
       "      <td>1690.0</td>\n",
       "      <td>7639</td>\n",
       "    </tr>\n",
       "    <tr>\n",
       "      <th>2</th>\n",
       "      <td>5631500400</td>\n",
       "      <td>20150225T000000</td>\n",
       "      <td>180000.0</td>\n",
       "      <td>2</td>\n",
       "      <td>1.00</td>\n",
       "      <td>770.0</td>\n",
       "      <td>10000.0</td>\n",
       "      <td>1.0</td>\n",
       "      <td>0</td>\n",
       "      <td>0</td>\n",
       "      <td>3</td>\n",
       "      <td>6</td>\n",
       "      <td>770.0</td>\n",
       "      <td>0</td>\n",
       "      <td>1933.0</td>\n",
       "      <td>0.0</td>\n",
       "      <td>98028.0</td>\n",
       "      <td>47.7379</td>\n",
       "      <td>-122.233</td>\n",
       "      <td>2720.0</td>\n",
       "      <td>8062</td>\n",
       "    </tr>\n",
       "    <tr>\n",
       "      <th>3</th>\n",
       "      <td>2487200875</td>\n",
       "      <td>20141209T000000</td>\n",
       "      <td>604000.0</td>\n",
       "      <td>4</td>\n",
       "      <td>3.00</td>\n",
       "      <td>1960.0</td>\n",
       "      <td>5000.0</td>\n",
       "      <td>1.0</td>\n",
       "      <td>0</td>\n",
       "      <td>0</td>\n",
       "      <td>5</td>\n",
       "      <td>7</td>\n",
       "      <td>1050.0</td>\n",
       "      <td>910</td>\n",
       "      <td>1965.0</td>\n",
       "      <td>0.0</td>\n",
       "      <td>98136.0</td>\n",
       "      <td>47.5208</td>\n",
       "      <td>-122.393</td>\n",
       "      <td>1360.0</td>\n",
       "      <td>5000</td>\n",
       "    </tr>\n",
       "    <tr>\n",
       "      <th>4</th>\n",
       "      <td>1954400510</td>\n",
       "      <td>20150218T000000</td>\n",
       "      <td>510000.0</td>\n",
       "      <td>3</td>\n",
       "      <td>2.00</td>\n",
       "      <td>1680.0</td>\n",
       "      <td>8080.0</td>\n",
       "      <td>1.0</td>\n",
       "      <td>0</td>\n",
       "      <td>0</td>\n",
       "      <td>3</td>\n",
       "      <td>8</td>\n",
       "      <td>1680.0</td>\n",
       "      <td>0</td>\n",
       "      <td>1987.0</td>\n",
       "      <td>0.0</td>\n",
       "      <td>98074.0</td>\n",
       "      <td>47.6168</td>\n",
       "      <td>-122.045</td>\n",
       "      <td>1800.0</td>\n",
       "      <td>7503</td>\n",
       "    </tr>\n",
       "  </tbody>\n",
       "</table>\n",
       "</div>"
      ],
      "text/plain": [
       "           id             date     price  bedrooms  bathrooms  sqft_living  \\\n",
       "0  7129300520  20141013T000000  221900.0         3       1.00       1180.0   \n",
       "1  6414100192  20141209T000000  538000.0         3       2.25       2570.0   \n",
       "2  5631500400  20150225T000000  180000.0         2       1.00        770.0   \n",
       "3  2487200875  20141209T000000  604000.0         4       3.00       1960.0   \n",
       "4  1954400510  20150218T000000  510000.0         3       2.00       1680.0   \n",
       "\n",
       "   sqft_lot  floors  waterfront  view  condition  grade  sqft_above  \\\n",
       "0    5650.0     1.0           0     0          3      7      1180.0   \n",
       "1    7242.0     2.0           0     0          3      7      2170.0   \n",
       "2   10000.0     1.0           0     0          3      6       770.0   \n",
       "3    5000.0     1.0           0     0          5      7      1050.0   \n",
       "4    8080.0     1.0           0     0          3      8      1680.0   \n",
       "\n",
       "   sqft_basement  yr_built  yr_renovated  zipcode      lat     long  \\\n",
       "0              0    1955.0           0.0  98178.0  47.5112 -122.257   \n",
       "1            400    1951.0        1991.0  98125.0  47.7210 -122.319   \n",
       "2              0    1933.0           0.0  98028.0  47.7379 -122.233   \n",
       "3            910    1965.0           0.0  98136.0  47.5208 -122.393   \n",
       "4              0    1987.0           0.0  98074.0  47.6168 -122.045   \n",
       "\n",
       "   sqft_living15  sqft_lot15  \n",
       "0         1340.0        5650  \n",
       "1         1690.0        7639  \n",
       "2         2720.0        8062  \n",
       "3         1360.0        5000  \n",
       "4         1800.0        7503  "
      ]
     },
     "execution_count": 5,
     "metadata": {},
     "output_type": "execute_result"
    }
   ],
   "source": [
    "# To-Do: Read the file (\"kc_house_data.csv\") using pandas and store in a dataframe called df\n",
    "df = pd.read_csv(\"kc_house_data.csv\")\n",
    "pd.set_option(\"display.max_columns\", None)\n",
    "df.head()"
   ]
  },
  {
   "cell_type": "code",
   "execution_count": 6,
   "metadata": {},
   "outputs": [
    {
     "data": {
      "text/plain": [
       "(21613, 21)"
      ]
     },
     "execution_count": 6,
     "metadata": {},
     "output_type": "execute_result"
    }
   ],
   "source": [
    "# To-Do: Print the dataframe's shape\n",
    "df.shape"
   ]
  },
  {
   "cell_type": "code",
   "execution_count": 7,
   "metadata": {},
   "outputs": [
    {
     "name": "stdout",
     "output_type": "stream",
     "text": [
      "<class 'pandas.core.frame.DataFrame'>\n",
      "RangeIndex: 21613 entries, 0 to 21612\n",
      "Data columns (total 21 columns):\n",
      " #   Column         Non-Null Count  Dtype  \n",
      "---  ------         --------------  -----  \n",
      " 0   id             21613 non-null  int64  \n",
      " 1   date           21606 non-null  object \n",
      " 2   price          21608 non-null  float64\n",
      " 3   bedrooms       21613 non-null  int64  \n",
      " 4   bathrooms      21613 non-null  float64\n",
      " 5   sqft_living    21612 non-null  float64\n",
      " 6   sqft_lot       21612 non-null  float64\n",
      " 7   floors         21613 non-null  float64\n",
      " 8   waterfront     21613 non-null  int64  \n",
      " 9   view           21613 non-null  int64  \n",
      " 10  condition      21613 non-null  int64  \n",
      " 11  grade          21613 non-null  int64  \n",
      " 12  sqft_above     21609 non-null  float64\n",
      " 13  sqft_basement  21613 non-null  int64  \n",
      " 14  yr_built       21611 non-null  float64\n",
      " 15  yr_renovated   21612 non-null  float64\n",
      " 16  zipcode        21611 non-null  float64\n",
      " 17  lat            21612 non-null  float64\n",
      " 18  long           21613 non-null  float64\n",
      " 19  sqft_living15  21612 non-null  float64\n",
      " 20  sqft_lot15     21613 non-null  int64  \n",
      "dtypes: float64(12), int64(8), object(1)\n",
      "memory usage: 3.5+ MB\n"
     ]
    }
   ],
   "source": [
    "# To-Do: Print the dataframe's info\n",
    "df.info()"
   ]
  },
  {
   "cell_type": "markdown",
   "metadata": {},
   "source": [
    "### 4. NA handling:<a id='na_handling'></a>\n",
    "It is clear after printing the dataset info that there are some variables that have less entries than the number of rows which means that some of them don't have values in certain rows.\n",
    "\n",
    "Given the number of the na values, what do you think is the best method to deal with them?"
   ]
  },
  {
   "cell_type": "code",
   "execution_count": 8,
   "metadata": {},
   "outputs": [
    {
     "data": {
      "text/plain": [
       "id               0\n",
       "date             7\n",
       "price            5\n",
       "bedrooms         0\n",
       "bathrooms        0\n",
       "sqft_living      1\n",
       "sqft_lot         1\n",
       "floors           0\n",
       "waterfront       0\n",
       "view             0\n",
       "condition        0\n",
       "grade            0\n",
       "sqft_above       4\n",
       "sqft_basement    0\n",
       "yr_built         2\n",
       "yr_renovated     1\n",
       "zipcode          2\n",
       "lat              1\n",
       "long             0\n",
       "sqft_living15    1\n",
       "sqft_lot15       0\n",
       "dtype: int64"
      ]
     },
     "execution_count": 8,
     "metadata": {},
     "output_type": "execute_result"
    }
   ],
   "source": [
    "df.isna().sum()"
   ]
  },
  {
   "cell_type": "markdown",
   "metadata": {},
   "source": [
    "I think that the number of NA values in this dataset is negligible, so the rows containing them will be dropped."
   ]
  },
  {
   "cell_type": "code",
   "execution_count": 9,
   "metadata": {},
   "outputs": [
    {
     "data": {
      "text/plain": [
       "(21588, 21)"
      ]
     },
     "execution_count": 9,
     "metadata": {},
     "output_type": "execute_result"
    }
   ],
   "source": [
    "# To-Do: deal with the NAs in your dataset in one line\n",
    "df.dropna(axis=0, inplace=True)\n",
    "df.shape"
   ]
  },
  {
   "cell_type": "markdown",
   "metadata": {},
   "source": [
    "### 5. Useless variables deletion:<a id='useless_var'></a>\n",
    "We want to eventually do a regression on it so naturally some variables bring no added value and can be delted without impacting the results.\n",
    "\n",
    "Delete the column that correspond to variables that aren't needed."
   ]
  },
  {
   "cell_type": "code",
   "execution_count": 10,
   "metadata": {
    "scrolled": true
   },
   "outputs": [],
   "source": [
    "# To-Do: delete the values of the variables that are useless\n",
    "df.drop([\"id\", \"date\", \"zipcode\", \"sqft_lot15\", \"sqft_living15\"], axis=1, inplace=True)"
   ]
  },
  {
   "cell_type": "markdown",
   "metadata": {},
   "source": [
    "<b>* Personal justification:</b>\n",
    "- The <b>Id</b> and the <b>date</b> have no relation with the houses pricing.\n",
    "- It is unlikely that there is a true linear relationship between the <b>zipcode</b> and the house pricing. \n",
    "- <b>\"sqft_living15\"</b> and <b>\"sqft_lot15\"</b> mean the average size of interior housing space for the closest 15 houses in square feet, which are not that crucial in defining a house's price."
   ]
  },
  {
   "cell_type": "code",
   "execution_count": 11,
   "metadata": {},
   "outputs": [
    {
     "name": "stdout",
     "output_type": "stream",
     "text": [
      "<class 'pandas.core.frame.DataFrame'>\n",
      "Int64Index: 21588 entries, 0 to 21612\n",
      "Data columns (total 16 columns):\n",
      " #   Column         Non-Null Count  Dtype  \n",
      "---  ------         --------------  -----  \n",
      " 0   price          21588 non-null  float64\n",
      " 1   bedrooms       21588 non-null  int64  \n",
      " 2   bathrooms      21588 non-null  float64\n",
      " 3   sqft_living    21588 non-null  float64\n",
      " 4   sqft_lot       21588 non-null  float64\n",
      " 5   floors         21588 non-null  float64\n",
      " 6   waterfront     21588 non-null  int64  \n",
      " 7   view           21588 non-null  int64  \n",
      " 8   condition      21588 non-null  int64  \n",
      " 9   grade          21588 non-null  int64  \n",
      " 10  sqft_above     21588 non-null  float64\n",
      " 11  sqft_basement  21588 non-null  int64  \n",
      " 12  yr_built       21588 non-null  float64\n",
      " 13  yr_renovated   21588 non-null  float64\n",
      " 14  lat            21588 non-null  float64\n",
      " 15  long           21588 non-null  float64\n",
      "dtypes: float64(10), int64(6)\n",
      "memory usage: 2.8 MB\n"
     ]
    }
   ],
   "source": [
    "df.info()"
   ]
  },
  {
   "cell_type": "markdown",
   "metadata": {},
   "source": [
    "### A wild playground appears !!\n",
    "In the next cell, go wild with the dataset discovery.\n",
    "You can calculate the mean, the median or do anything you want to learn more the data.\n",
    "\n",
    "<b>Pro tip :</b> \n",
    "Sometimes you might want to know how many unique variables a column has, to do so you can use the padas function :\n",
    "\n",
    "<center>pd.unique(df['column_name'])</center>"
   ]
  },
  {
   "cell_type": "code",
   "execution_count": 12,
   "metadata": {},
   "outputs": [
    {
     "data": {
      "text/html": [
       "<div>\n",
       "<style scoped>\n",
       "    .dataframe tbody tr th:only-of-type {\n",
       "        vertical-align: middle;\n",
       "    }\n",
       "\n",
       "    .dataframe tbody tr th {\n",
       "        vertical-align: top;\n",
       "    }\n",
       "\n",
       "    .dataframe thead th {\n",
       "        text-align: right;\n",
       "    }\n",
       "</style>\n",
       "<table border=\"1\" class=\"dataframe\">\n",
       "  <thead>\n",
       "    <tr style=\"text-align: right;\">\n",
       "      <th></th>\n",
       "      <th>price</th>\n",
       "      <th>bedrooms</th>\n",
       "      <th>bathrooms</th>\n",
       "      <th>sqft_living</th>\n",
       "      <th>sqft_lot</th>\n",
       "      <th>floors</th>\n",
       "      <th>waterfront</th>\n",
       "      <th>view</th>\n",
       "      <th>condition</th>\n",
       "      <th>grade</th>\n",
       "      <th>sqft_above</th>\n",
       "      <th>sqft_basement</th>\n",
       "      <th>yr_built</th>\n",
       "      <th>yr_renovated</th>\n",
       "      <th>lat</th>\n",
       "      <th>long</th>\n",
       "    </tr>\n",
       "  </thead>\n",
       "  <tbody>\n",
       "    <tr>\n",
       "      <th>count</th>\n",
       "      <td>2.158800e+04</td>\n",
       "      <td>21588.000000</td>\n",
       "      <td>21588.000000</td>\n",
       "      <td>21588.000000</td>\n",
       "      <td>2.158800e+04</td>\n",
       "      <td>21588.000000</td>\n",
       "      <td>21588.000000</td>\n",
       "      <td>21588.000000</td>\n",
       "      <td>21588.000000</td>\n",
       "      <td>21588.000000</td>\n",
       "      <td>21588.000000</td>\n",
       "      <td>21588.000000</td>\n",
       "      <td>21588.000000</td>\n",
       "      <td>21588.000000</td>\n",
       "      <td>21588.000000</td>\n",
       "      <td>21588.000000</td>\n",
       "    </tr>\n",
       "    <tr>\n",
       "      <th>mean</th>\n",
       "      <td>5.401545e+05</td>\n",
       "      <td>3.370576</td>\n",
       "      <td>2.114670</td>\n",
       "      <td>2079.916528</td>\n",
       "      <td>1.511370e+04</td>\n",
       "      <td>1.494187</td>\n",
       "      <td>0.007550</td>\n",
       "      <td>0.234297</td>\n",
       "      <td>3.409626</td>\n",
       "      <td>7.656985</td>\n",
       "      <td>1788.385353</td>\n",
       "      <td>291.531175</td>\n",
       "      <td>1971.004910</td>\n",
       "      <td>84.408329</td>\n",
       "      <td>47.560054</td>\n",
       "      <td>-122.213889</td>\n",
       "    </tr>\n",
       "    <tr>\n",
       "      <th>std</th>\n",
       "      <td>3.671493e+05</td>\n",
       "      <td>0.929870</td>\n",
       "      <td>0.770085</td>\n",
       "      <td>918.538221</td>\n",
       "      <td>4.144320e+04</td>\n",
       "      <td>0.539989</td>\n",
       "      <td>0.086567</td>\n",
       "      <td>0.766200</td>\n",
       "      <td>0.650932</td>\n",
       "      <td>1.175540</td>\n",
       "      <td>828.218416</td>\n",
       "      <td>442.624173</td>\n",
       "      <td>29.365908</td>\n",
       "      <td>401.694992</td>\n",
       "      <td>0.138558</td>\n",
       "      <td>0.140825</td>\n",
       "    </tr>\n",
       "    <tr>\n",
       "      <th>min</th>\n",
       "      <td>7.500000e+04</td>\n",
       "      <td>0.000000</td>\n",
       "      <td>0.000000</td>\n",
       "      <td>290.000000</td>\n",
       "      <td>5.200000e+02</td>\n",
       "      <td>1.000000</td>\n",
       "      <td>0.000000</td>\n",
       "      <td>0.000000</td>\n",
       "      <td>1.000000</td>\n",
       "      <td>1.000000</td>\n",
       "      <td>290.000000</td>\n",
       "      <td>0.000000</td>\n",
       "      <td>1900.000000</td>\n",
       "      <td>0.000000</td>\n",
       "      <td>47.155900</td>\n",
       "      <td>-122.519000</td>\n",
       "    </tr>\n",
       "    <tr>\n",
       "      <th>25%</th>\n",
       "      <td>3.219875e+05</td>\n",
       "      <td>3.000000</td>\n",
       "      <td>1.750000</td>\n",
       "      <td>1430.000000</td>\n",
       "      <td>5.040000e+03</td>\n",
       "      <td>1.000000</td>\n",
       "      <td>0.000000</td>\n",
       "      <td>0.000000</td>\n",
       "      <td>3.000000</td>\n",
       "      <td>7.000000</td>\n",
       "      <td>1190.000000</td>\n",
       "      <td>0.000000</td>\n",
       "      <td>1951.000000</td>\n",
       "      <td>0.000000</td>\n",
       "      <td>47.470975</td>\n",
       "      <td>-122.328000</td>\n",
       "    </tr>\n",
       "    <tr>\n",
       "      <th>50%</th>\n",
       "      <td>4.500000e+05</td>\n",
       "      <td>3.000000</td>\n",
       "      <td>2.250000</td>\n",
       "      <td>1910.000000</td>\n",
       "      <td>7.620000e+03</td>\n",
       "      <td>1.500000</td>\n",
       "      <td>0.000000</td>\n",
       "      <td>0.000000</td>\n",
       "      <td>3.000000</td>\n",
       "      <td>7.000000</td>\n",
       "      <td>1560.000000</td>\n",
       "      <td>0.000000</td>\n",
       "      <td>1975.000000</td>\n",
       "      <td>0.000000</td>\n",
       "      <td>47.571800</td>\n",
       "      <td>-122.230500</td>\n",
       "    </tr>\n",
       "    <tr>\n",
       "      <th>75%</th>\n",
       "      <td>6.450000e+05</td>\n",
       "      <td>4.000000</td>\n",
       "      <td>2.500000</td>\n",
       "      <td>2550.000000</td>\n",
       "      <td>1.068825e+04</td>\n",
       "      <td>2.000000</td>\n",
       "      <td>0.000000</td>\n",
       "      <td>0.000000</td>\n",
       "      <td>4.000000</td>\n",
       "      <td>8.000000</td>\n",
       "      <td>2210.000000</td>\n",
       "      <td>560.000000</td>\n",
       "      <td>1997.000000</td>\n",
       "      <td>0.000000</td>\n",
       "      <td>47.678000</td>\n",
       "      <td>-122.125000</td>\n",
       "    </tr>\n",
       "    <tr>\n",
       "      <th>max</th>\n",
       "      <td>7.700000e+06</td>\n",
       "      <td>33.000000</td>\n",
       "      <td>8.000000</td>\n",
       "      <td>13540.000000</td>\n",
       "      <td>1.651359e+06</td>\n",
       "      <td>3.500000</td>\n",
       "      <td>1.000000</td>\n",
       "      <td>4.000000</td>\n",
       "      <td>5.000000</td>\n",
       "      <td>13.000000</td>\n",
       "      <td>9410.000000</td>\n",
       "      <td>4820.000000</td>\n",
       "      <td>2015.000000</td>\n",
       "      <td>2015.000000</td>\n",
       "      <td>47.777600</td>\n",
       "      <td>-121.315000</td>\n",
       "    </tr>\n",
       "  </tbody>\n",
       "</table>\n",
       "</div>"
      ],
      "text/plain": [
       "              price      bedrooms     bathrooms   sqft_living      sqft_lot  \\\n",
       "count  2.158800e+04  21588.000000  21588.000000  21588.000000  2.158800e+04   \n",
       "mean   5.401545e+05      3.370576      2.114670   2079.916528  1.511370e+04   \n",
       "std    3.671493e+05      0.929870      0.770085    918.538221  4.144320e+04   \n",
       "min    7.500000e+04      0.000000      0.000000    290.000000  5.200000e+02   \n",
       "25%    3.219875e+05      3.000000      1.750000   1430.000000  5.040000e+03   \n",
       "50%    4.500000e+05      3.000000      2.250000   1910.000000  7.620000e+03   \n",
       "75%    6.450000e+05      4.000000      2.500000   2550.000000  1.068825e+04   \n",
       "max    7.700000e+06     33.000000      8.000000  13540.000000  1.651359e+06   \n",
       "\n",
       "             floors    waterfront          view     condition         grade  \\\n",
       "count  21588.000000  21588.000000  21588.000000  21588.000000  21588.000000   \n",
       "mean       1.494187      0.007550      0.234297      3.409626      7.656985   \n",
       "std        0.539989      0.086567      0.766200      0.650932      1.175540   \n",
       "min        1.000000      0.000000      0.000000      1.000000      1.000000   \n",
       "25%        1.000000      0.000000      0.000000      3.000000      7.000000   \n",
       "50%        1.500000      0.000000      0.000000      3.000000      7.000000   \n",
       "75%        2.000000      0.000000      0.000000      4.000000      8.000000   \n",
       "max        3.500000      1.000000      4.000000      5.000000     13.000000   \n",
       "\n",
       "         sqft_above  sqft_basement      yr_built  yr_renovated           lat  \\\n",
       "count  21588.000000   21588.000000  21588.000000  21588.000000  21588.000000   \n",
       "mean    1788.385353     291.531175   1971.004910     84.408329     47.560054   \n",
       "std      828.218416     442.624173     29.365908    401.694992      0.138558   \n",
       "min      290.000000       0.000000   1900.000000      0.000000     47.155900   \n",
       "25%     1190.000000       0.000000   1951.000000      0.000000     47.470975   \n",
       "50%     1560.000000       0.000000   1975.000000      0.000000     47.571800   \n",
       "75%     2210.000000     560.000000   1997.000000      0.000000     47.678000   \n",
       "max     9410.000000    4820.000000   2015.000000   2015.000000     47.777600   \n",
       "\n",
       "               long  \n",
       "count  21588.000000  \n",
       "mean    -122.213889  \n",
       "std        0.140825  \n",
       "min     -122.519000  \n",
       "25%     -122.328000  \n",
       "50%     -122.230500  \n",
       "75%     -122.125000  \n",
       "max     -121.315000  "
      ]
     },
     "execution_count": 12,
     "metadata": {},
     "output_type": "execute_result"
    }
   ],
   "source": [
    "# To-Do : get to know more your data WITHOUT modifying it !!\n",
    "df.describe()"
   ]
  },
  {
   "cell_type": "code",
   "execution_count": 13,
   "metadata": {},
   "outputs": [
    {
     "name": "stdout",
     "output_type": "stream",
     "text": [
      "unique waterfront values: \n",
      "[0 1]\n",
      "unique view values: \n",
      "[0 3 4 2 1]\n",
      "unique bedrooms values: \n",
      "[ 3  2  4  5  1  6  7  0  8  9 11 10 33]\n",
      "unique floor values: \n",
      "[1.  2.  1.5 3.  2.5 3.5]\n"
     ]
    }
   ],
   "source": [
    "print(\"unique waterfront values: \")\n",
    "print(pd.unique(df['waterfront']))\n",
    "print(\"unique view values: \")\n",
    "print(pd.unique(df['view']))\n",
    "print(\"unique bedrooms values: \")\n",
    "print(pd.unique(df['bedrooms']))\n",
    "print(\"unique floor values: \")\n",
    "print(pd.unique(df['floors']))"
   ]
  },
  {
   "cell_type": "markdown",
   "metadata": {},
   "source": [
    "### 6.Outliers detection:<a id='outliers'></a>\n",
    "Having outliers is a common problem that might affect the quality of the model that we're building.\n",
    "\n",
    "Let's assume that we're not interested in very expensive or very cheap houses, we want a model that best fits the average priced houses.\n",
    "\n",
    "To create such a model, we detect outliers and delete them using the Z-score method seen in the lessons."
   ]
  },
  {
   "cell_type": "code",
   "execution_count": 14,
   "metadata": {},
   "outputs": [],
   "source": [
    "# To-Do : detect the outliers then delete them and delete the column created to calculate the Z-score\n",
    "df[\"prices_zscore\"] = ( (df.price - df.price.mean()) / df.price.std() )\n",
    "df = df[abs(df.prices_zscore) < 3]\n",
    "df.drop([\"prices_zscore\"], axis=1, inplace = True)"
   ]
  },
  {
   "cell_type": "code",
   "execution_count": 15,
   "metadata": {},
   "outputs": [
    {
     "name": "stdout",
     "output_type": "stream",
     "text": [
      "<class 'pandas.core.frame.DataFrame'>\n",
      "Int64Index: 21183 entries, 0 to 21612\n",
      "Data columns (total 16 columns):\n",
      " #   Column         Non-Null Count  Dtype  \n",
      "---  ------         --------------  -----  \n",
      " 0   price          21183 non-null  float64\n",
      " 1   bedrooms       21183 non-null  int64  \n",
      " 2   bathrooms      21183 non-null  float64\n",
      " 3   sqft_living    21183 non-null  float64\n",
      " 4   sqft_lot       21183 non-null  float64\n",
      " 5   floors         21183 non-null  float64\n",
      " 6   waterfront     21183 non-null  int64  \n",
      " 7   view           21183 non-null  int64  \n",
      " 8   condition      21183 non-null  int64  \n",
      " 9   grade          21183 non-null  int64  \n",
      " 10  sqft_above     21183 non-null  float64\n",
      " 11  sqft_basement  21183 non-null  int64  \n",
      " 12  yr_built       21183 non-null  float64\n",
      " 13  yr_renovated   21183 non-null  float64\n",
      " 14  lat            21183 non-null  float64\n",
      " 15  long           21183 non-null  float64\n",
      "dtypes: float64(10), int64(6)\n",
      "memory usage: 2.7 MB\n"
     ]
    }
   ],
   "source": [
    "df.info()"
   ]
  },
  {
   "cell_type": "markdown",
   "metadata": {},
   "source": [
    "### 7.Feature selection:<a id='feature_selection'></a>\n",
    "It is clear that even after deleting some features, there might be other features that aren't obviously useless but can be delted and keep a good overall performance.\n",
    "\n",
    "To verify this, we perform feature selection on our variables."
   ]
  },
  {
   "cell_type": "code",
   "execution_count": 16,
   "metadata": {},
   "outputs": [
    {
     "data": {
      "text/plain": [
       "<AxesSubplot:>"
      ]
     },
     "execution_count": 16,
     "metadata": {},
     "output_type": "execute_result"
    },
    {
     "data": {
      "image/png": "[encoded data removed]",
      "text/plain": [
       "<Figure size 864x576 with 2 Axes>"
      ]
     },
     "metadata": {
      "needs_background": "light"
     },
     "output_type": "display_data"
    }
   ],
   "source": [
    "# To-Do : perform feature selection using correlation\n",
    "fig, ax = plt.subplots(figsize=(12,8)) # Increasing the size of the heatmap\n",
    "sns.heatmap(df.corr())"
   ]
  },
  {
   "cell_type": "code",
   "execution_count": 17,
   "metadata": {},
   "outputs": [],
   "source": [
    "# To-Do : drop the variables that seem highly correlated to you\n",
    "df.drop([\"sqft_above\", \"condition\", \"yr_built\", \"sqft_lot\", \"waterfront\", \"long\"], axis=1, inplace=True)"
   ]
  },
  {
   "cell_type": "markdown",
   "metadata": {},
   "source": [
    "<b>* Personal justification:</b>\n",
    "- <b>\"sqft_above\"</b> and <b>\"sqft_living\"</b> are highly correlated, so having them both in the dataset will not bring additional information, only one of them should be kept (sqft_living is the one kept because it is more correlated with out target variable \"price\"). \n",
    "- <b>\"condition\"</b>, <b>\"yr_built\"</b>, <b>\"sqft_lot\"</b>, <b>\"waterfront\"</b> and <b>\"long\"</b> are not highly correlated with the target variable \"price\" so they are removed."
   ]
  },
  {
   "cell_type": "code",
   "execution_count": 18,
   "metadata": {},
   "outputs": [
    {
     "data": {
      "text/plain": [
       "<AxesSubplot:>"
      ]
     },
     "execution_count": 18,
     "metadata": {},
     "output_type": "execute_result"
    },
    {
     "data": {
      "image/png": "[encoded data removed]",
      "text/plain": [
       "<Figure size 432x288 with 2 Axes>"
      ]
     },
     "metadata": {
      "needs_background": "light"
     },
     "output_type": "display_data"
    }
   ],
   "source": [
    "# Checking the heatmap again after feature selection\n",
    "sns.heatmap(df.corr())"
   ]
  },
  {
   "cell_type": "markdown",
   "metadata": {},
   "source": [
    "### 8.Linear regression:<a id='linear_reg'></a>\n",
    "Now that our data is clean and ready to be used, let's try to fit it into a linear regression model.\n",
    "\n",
    "<ul>\n",
    "    <li>We begin by splitting our variables into dependant and independant variables.</li>\n",
    "    <li>We create the model using the LinearRegression class.</li>\n",
    "    <li>We evaluate our model using the R² score</li>\n",
    "</ul>"
   ]
  },
  {
   "cell_type": "code",
   "execution_count": 19,
   "metadata": {},
   "outputs": [],
   "source": [
    "# Splitting the data into dependant and independant variables\n",
    "Y = df['price']\n",
    "X = df.drop(['price'],axis = 1)"
   ]
  },
  {
   "cell_type": "code",
   "execution_count": 20,
   "metadata": {},
   "outputs": [
    {
     "data": {
      "text/plain": [
       "LinearRegression()"
      ]
     },
     "execution_count": 20,
     "metadata": {},
     "output_type": "execute_result"
    }
   ],
   "source": [
    "from sklearn.linear_model import LinearRegression\n",
    "# To-Do : Create a linear regression model using the LinearRegression class then fit it to the data\n",
    "result = LinearRegression()\n",
    "result.fit(X,Y)"
   ]
  },
  {
   "cell_type": "code",
   "execution_count": 21,
   "metadata": {},
   "outputs": [
    {
     "data": {
      "text/plain": [
       "0.6612975547256352"
      ]
     },
     "execution_count": 21,
     "metadata": {},
     "output_type": "execute_result"
    }
   ],
   "source": [
    "# The function used to calculate the R² score is the method \"score\" found in the LinearRegression class\n",
    "result.score(X, Y)"
   ]
  },
  {
   "cell_type": "markdown",
   "metadata": {},
   "source": [
    "## Conclusion:\n",
    "Data preparation is a very important step in the machine learning pipeline. It is crucial to clean our data and understand it very well before we can create any model on the data.\n",
    "\n",
    "In this notebook, we have spent 4 steps preparing our data but only 1 to create the model. This reflects how time consuming the process of data preparation is compared to the other steps as well as the importance of the quality of the data used.\n",
    "\n",
    "In the next unit, we will see more about the models creation process and see a lot of important concepts in depth."
   ]
  }
 ],
 "metadata": {
  "kernelspec": {
   "display_name": "Python 3 (ipykernel)",
   "language": "python",
   "name": "python3"
  },
  "language_info": {
   "codemirror_mode": {
    "name": "ipython",
    "version": 3
   },
   "file_extension": ".py",
   "mimetype": "text/x-python",
   "name": "python",
   "nbconvert_exporter": "python",
   "pygments_lexer": "ipython3",
   "version": "3.9.2"
  }
 },
 "nbformat": 4,
 "nbformat_minor": 2
}
