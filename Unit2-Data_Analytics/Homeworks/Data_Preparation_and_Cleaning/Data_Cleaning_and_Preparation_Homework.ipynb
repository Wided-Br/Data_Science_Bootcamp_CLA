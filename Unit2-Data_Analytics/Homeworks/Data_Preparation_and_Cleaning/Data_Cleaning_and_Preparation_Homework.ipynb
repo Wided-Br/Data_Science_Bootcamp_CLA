{
 "cells": [
  {
   "cell_type": "code",
   "execution_count": 1,
   "id": "6fcc2559",
   "metadata": {},
   "outputs": [],
   "source": [
    "import pandas as pd\n",
    "import matplotlib.pyplot as plt"
   ]
  },
  {
   "cell_type": "code",
   "execution_count": 2,
   "id": "6e261f26",
   "metadata": {},
   "outputs": [],
   "source": [
    "df = pd.read_csv(\"videosUS.csv\")"
   ]
  },
  {
   "cell_type": "code",
   "execution_count": 3,
   "id": "1a2ed697",
   "metadata": {},
   "outputs": [
    {
     "name": "stdout",
     "output_type": "stream",
     "text": [
      "<class 'pandas.core.frame.DataFrame'>\n",
      "RangeIndex: 41415 entries, 0 to 41414\n",
      "Data columns (total 16 columns):\n",
      " #   Column                  Non-Null Count  Dtype  \n",
      "---  ------                  --------------  -----  \n",
      " 0   video_id                41415 non-null  object \n",
      " 1   trending_date           40949 non-null  object \n",
      " 2   title                   40949 non-null  object \n",
      " 3   channel_title           40949 non-null  object \n",
      " 4   category_id             40949 non-null  float64\n",
      " 5   publish_time            40949 non-null  object \n",
      " 6   tags                    40949 non-null  object \n",
      " 7   views                   40949 non-null  float64\n",
      " 8   likes                   40949 non-null  float64\n",
      " 9   dislikes                40949 non-null  float64\n",
      " 10  comment_count           40949 non-null  float64\n",
      " 11  thumbnail_link          40949 non-null  object \n",
      " 12  comments_disabled       40949 non-null  object \n",
      " 13  ratings_disabled        40949 non-null  object \n",
      " 14  video_error_or_removed  40949 non-null  object \n",
      " 15  description             40379 non-null  object \n",
      "dtypes: float64(5), object(11)\n",
      "memory usage: 5.1+ MB\n"
     ]
    }
   ],
   "source": [
    "df.info()"
   ]
  },
  {
   "cell_type": "code",
   "execution_count": 4,
   "id": "b4d93157",
   "metadata": {},
   "outputs": [
    {
     "name": "stdout",
     "output_type": "stream",
     "text": [
      "The missing values and there columns are:\n"
     ]
    },
    {
     "data": {
      "text/plain": [
       "video_id                     0\n",
       "trending_date              466\n",
       "title                      466\n",
       "channel_title              466\n",
       "category_id                466\n",
       "publish_time               466\n",
       "tags                       466\n",
       "views                      466\n",
       "likes                      466\n",
       "dislikes                   466\n",
       "comment_count              466\n",
       "thumbnail_link             466\n",
       "comments_disabled          466\n",
       "ratings_disabled           466\n",
       "video_error_or_removed     466\n",
       "description               1036\n",
       "dtype: int64"
      ]
     },
     "execution_count": 4,
     "metadata": {},
     "output_type": "execute_result"
    }
   ],
   "source": [
    "print(\"The missing values and there columns are:\") \n",
    "df.isna().sum()"
   ]
  },
  {
   "cell_type": "markdown",
   "id": "223beabe",
   "metadata": {},
   "source": [
    "  I believe these pieces of info went missing because probably the videos are hidden (private). Or Maybe there is a channel that contained 466 videos that was used in the survey, but is deleted afterwards so the data was deleted from the dataset too for privacy/legal issues, but the videos' Ids were kept.\n",
    "This was concluded from https://stackoverflow.com/questions/25716081/can-youtube-ids-be-reissued-after-a-video-is-deleted, \n",
    "where someone explained that videos ID's are unique (even after the deletion of the video) and can't be used to other videos.\n",
    "\"If YouTube were to ever reuse IDs, it would cause problems such as old links now pointing to new (possibly unlisted) videos. \n",
    "There is no advantage in reusing IDs, only problems including privacy problems. It would be an ugly bug.\"\n",
    " \n",
    "  For the missing description, i guess that it's normal to have it missing because some videos ( like entertainment ones or so) are enoughly described by their title, or when the channel is not an offical/professional publisher (amateurs' videos)."
   ]
  },
  {
   "cell_type": "code",
   "execution_count": 5,
   "id": "f1fafb13",
   "metadata": {},
   "outputs": [
    {
     "name": "stdout",
     "output_type": "stream",
     "text": [
      "Extracting the mean , median , quartiles of each numerical variable within this dataset.\n"
     ]
    },
    {
     "data": {
      "text/html": [
       "<div>\n",
       "<style scoped>\n",
       "    .dataframe tbody tr th:only-of-type {\n",
       "        vertical-align: middle;\n",
       "    }\n",
       "\n",
       "    .dataframe tbody tr th {\n",
       "        vertical-align: top;\n",
       "    }\n",
       "\n",
       "    .dataframe thead th {\n",
       "        text-align: right;\n",
       "    }\n",
       "</style>\n",
       "<table border=\"1\" class=\"dataframe\">\n",
       "  <thead>\n",
       "    <tr style=\"text-align: right;\">\n",
       "      <th></th>\n",
       "      <th>category_id</th>\n",
       "      <th>views</th>\n",
       "      <th>likes</th>\n",
       "      <th>dislikes</th>\n",
       "      <th>comment_count</th>\n",
       "    </tr>\n",
       "  </thead>\n",
       "  <tbody>\n",
       "    <tr>\n",
       "      <th>count</th>\n",
       "      <td>40949.000000</td>\n",
       "      <td>4.094900e+04</td>\n",
       "      <td>4.094900e+04</td>\n",
       "      <td>4.094900e+04</td>\n",
       "      <td>4.094900e+04</td>\n",
       "    </tr>\n",
       "    <tr>\n",
       "      <th>mean</th>\n",
       "      <td>19.972429</td>\n",
       "      <td>2.360785e+06</td>\n",
       "      <td>7.426670e+04</td>\n",
       "      <td>3.711401e+03</td>\n",
       "      <td>8.446804e+03</td>\n",
       "    </tr>\n",
       "    <tr>\n",
       "      <th>std</th>\n",
       "      <td>7.568327</td>\n",
       "      <td>7.394114e+06</td>\n",
       "      <td>2.288853e+05</td>\n",
       "      <td>2.902971e+04</td>\n",
       "      <td>3.743049e+04</td>\n",
       "    </tr>\n",
       "    <tr>\n",
       "      <th>min</th>\n",
       "      <td>1.000000</td>\n",
       "      <td>5.490000e+02</td>\n",
       "      <td>0.000000e+00</td>\n",
       "      <td>0.000000e+00</td>\n",
       "      <td>0.000000e+00</td>\n",
       "    </tr>\n",
       "    <tr>\n",
       "      <th>25%</th>\n",
       "      <td>17.000000</td>\n",
       "      <td>2.423290e+05</td>\n",
       "      <td>5.424000e+03</td>\n",
       "      <td>2.020000e+02</td>\n",
       "      <td>6.140000e+02</td>\n",
       "    </tr>\n",
       "    <tr>\n",
       "      <th>50%</th>\n",
       "      <td>24.000000</td>\n",
       "      <td>6.818610e+05</td>\n",
       "      <td>1.809100e+04</td>\n",
       "      <td>6.310000e+02</td>\n",
       "      <td>1.856000e+03</td>\n",
       "    </tr>\n",
       "    <tr>\n",
       "      <th>75%</th>\n",
       "      <td>25.000000</td>\n",
       "      <td>1.823157e+06</td>\n",
       "      <td>5.541700e+04</td>\n",
       "      <td>1.938000e+03</td>\n",
       "      <td>5.755000e+03</td>\n",
       "    </tr>\n",
       "    <tr>\n",
       "      <th>max</th>\n",
       "      <td>43.000000</td>\n",
       "      <td>2.252119e+08</td>\n",
       "      <td>5.613827e+06</td>\n",
       "      <td>1.674420e+06</td>\n",
       "      <td>1.361580e+06</td>\n",
       "    </tr>\n",
       "  </tbody>\n",
       "</table>\n",
       "</div>"
      ],
      "text/plain": [
       "        category_id         views         likes      dislikes  comment_count\n",
       "count  40949.000000  4.094900e+04  4.094900e+04  4.094900e+04   4.094900e+04\n",
       "mean      19.972429  2.360785e+06  7.426670e+04  3.711401e+03   8.446804e+03\n",
       "std        7.568327  7.394114e+06  2.288853e+05  2.902971e+04   3.743049e+04\n",
       "min        1.000000  5.490000e+02  0.000000e+00  0.000000e+00   0.000000e+00\n",
       "25%       17.000000  2.423290e+05  5.424000e+03  2.020000e+02   6.140000e+02\n",
       "50%       24.000000  6.818610e+05  1.809100e+04  6.310000e+02   1.856000e+03\n",
       "75%       25.000000  1.823157e+06  5.541700e+04  1.938000e+03   5.755000e+03\n",
       "max       43.000000  2.252119e+08  5.613827e+06  1.674420e+06   1.361580e+06"
      ]
     },
     "execution_count": 5,
     "metadata": {},
     "output_type": "execute_result"
    }
   ],
   "source": [
    "print(\"Extracting the mean , median , quartiles of each numerical variable within this dataset.\")\n",
    "df.describe()"
   ]
  },
  {
   "cell_type": "code",
   "execution_count": 6,
   "id": "3ccbd5f0",
   "metadata": {},
   "outputs": [],
   "source": [
    "df[\"views_zscore\"] = (df.views - df.views.mean()) / df.views.std()\n",
    "df = df[abs(df[\"views_zscore\"]) < 3]\n",
    "# Removing views outliers from the dataset"
   ]
  },
  {
   "cell_type": "code",
   "execution_count": 7,
   "id": "d1cb9ba0",
   "metadata": {},
   "outputs": [],
   "source": [
    "df[\"likes_zscore\"] = (df.likes - df.likes.mean()) / df.likes.std()\n",
    "df = df[abs(df[\"likes_zscore\"]) < 3]\n",
    "# Removing views outliers from the dataset"
   ]
  },
  {
   "cell_type": "code",
   "execution_count": 8,
   "id": "65f2adaf",
   "metadata": {},
   "outputs": [],
   "source": [
    "df[\"dislikes_zscore\"] = (df.dislikes - df.dislikes.mean()) / df.dislikes.std()\n",
    "df = df[abs(df[\"dislikes_zscore\"]) < 3]\n",
    "# Removing views outliers from the dataset"
   ]
  },
  {
   "cell_type": "code",
   "execution_count": 9,
   "id": "5946ad3a",
   "metadata": {},
   "outputs": [],
   "source": [
    "df[\"comments_zscore\"] = (df.comment_count - df.comment_count.mean()) / df.comment_count.std()\n",
    "df = df[abs(df[\"comments_zscore\"]) < 3]\n",
    "# Removing views outliers from the dataset"
   ]
  },
  {
   "cell_type": "code",
   "execution_count": 10,
   "id": "5e240740",
   "metadata": {
    "scrolled": false
   },
   "outputs": [
    {
     "name": "stdout",
     "output_type": "stream",
     "text": [
      "<class 'pandas.core.frame.DataFrame'>\n",
      "Int64Index: 38782 entries, 0 to 41413\n",
      "Data columns (total 20 columns):\n",
      " #   Column                  Non-Null Count  Dtype  \n",
      "---  ------                  --------------  -----  \n",
      " 0   video_id                38782 non-null  object \n",
      " 1   trending_date           38782 non-null  object \n",
      " 2   title                   38782 non-null  object \n",
      " 3   channel_title           38782 non-null  object \n",
      " 4   category_id             38782 non-null  float64\n",
      " 5   publish_time            38782 non-null  object \n",
      " 6   tags                    38782 non-null  object \n",
      " 7   views                   38782 non-null  float64\n",
      " 8   likes                   38782 non-null  float64\n",
      " 9   dislikes                38782 non-null  float64\n",
      " 10  comment_count           38782 non-null  float64\n",
      " 11  thumbnail_link          38782 non-null  object \n",
      " 12  comments_disabled       38782 non-null  object \n",
      " 13  ratings_disabled        38782 non-null  object \n",
      " 14  video_error_or_removed  38782 non-null  object \n",
      " 15  description             38251 non-null  object \n",
      " 16  views_zscore            38782 non-null  float64\n",
      " 17  likes_zscore            38782 non-null  float64\n",
      " 18  dislikes_zscore         38782 non-null  float64\n",
      " 19  comments_zscore         38782 non-null  float64\n",
      "dtypes: float64(9), object(11)\n",
      "memory usage: 6.2+ MB\n"
     ]
    }
   ],
   "source": [
    "df.info()\n",
    "# to compare the count of values before and after removing the outliers (Check cell 3 for the 'before' count)."
   ]
  },
  {
   "cell_type": "code",
   "execution_count": 11,
   "id": "3e7e9e3b",
   "metadata": {},
   "outputs": [
    {
     "name": "stdout",
     "output_type": "stream",
     "text": [
      "Unique values present in category column are:  [22. 24. 23. 28.  1. 25. 17. 10. 15. 27. 26.  2. 19. 20. 29. 43.]\n",
      "So There are 16 unique categories.\n"
     ]
    }
   ],
   "source": [
    "print(\"Unique values present in category column are: \", df['category_id'].unique())\n",
    "print(\"So There are\",df['category_id'].nunique(), \"unique categories.\")"
   ]
  },
  {
   "cell_type": "markdown",
   "id": "d5fa606a",
   "metadata": {},
   "source": [
    "I think it will be more handy if we change the type of: comments_disabled, ratings_disabled, video_error_or_removed from object\n",
    "to int, i.e 0 for 'False' and 1 for 'True'."
   ]
  },
  {
   "cell_type": "code",
   "execution_count": 12,
   "id": "c11039f1",
   "metadata": {},
   "outputs": [
    {
     "name": "stdout",
     "output_type": "stream",
     "text": [
      "There are 5935 tags.\n",
      "The 5 most commun tags are: \n"
     ]
    },
    {
     "data": {
      "text/plain": [
       "[none]                                                                                                                                                                                                                                                                                                                                                                                                                                                       1500\n",
       "ABC|\"americanidol\"|\"idol\"|\"american idol\"|\"ryan\"|\"seacrest\"|\"ryan seacrest\"|\"katy\"|\"perry\"|\"katy perry\"|\"luke\"|\"bryan\"|\"luke bryan\"|\"lionel\"|\"richie\"|\"lionel richie\"|\"season 16\"|\"american idol XVI\"|\"television\"|\"ad\"|\"spring\"|\"2018\"|\"music\"|\"reality\"|\"competition\"|\"song\"|\"sing\"|\"audition\"|\"auditions\"|\"performance\"|\"live\"|\"fox\"|\"AI\"|\"hollywood\"|\"contestant\"|\"official\"|\"american\"|\"official american idol\"|\"hollywood week\"|\"hometown audition\"      87\n",
       "James Corden|\"The Late Late Show\"|\"Colbert\"|\"late night\"|\"late night show\"|\"Stephen Colbert\"|\"Comedy\"|\"monologue\"|\"comedian\"|\"impressions\"|\"celebrities\"|\"carpool\"|\"karaoke\"|\"CBS\"|\"Late Late Show\"|\"Corden\"|\"joke\"|\"jokes\"|\"funny\"|\"funny video\"|\"funny videos\"|\"humor\"|\"celebrity\"|\"celeb\"|\"hollywood\"|\"famous\"                                                                                                                                              71\n",
       "The Late Show|\"Stephen Colbert\"|\"Colbert\"|\"Late Show\"|\"celebrities\"|\"late night\"|\"talk show\"|\"skits\"|\"bit\"|\"monologue\"|\"The Late Late Show\"|\"Late Late Show\"|\"letterman\"|\"david letterman\"|\"comedian\"|\"impressions\"|\"CBS\"|\"joke\"|\"jokes\"|\"funny\"|\"funny video\"|\"funny videos\"|\"humor\"|\"celebrity\"|\"celeb\"|\"hollywood\"|\"famous\"|\"James Corden\"|\"Corden\"|\"Comedy\"                                                                                                66\n",
       "Jacksfilms|\"Jack Douglass\"|\"YGS\"|\"YGS 100\"|\"YGS 50\"|\"The Best of Your Grammar Sucks\"|\"Your Grammar Sucks\"|\"YIAY\"|\"Yesterday I Asked You\"|\"Fidget Spinners\"|\"Emoji Movie\"|\"Kermit Sings\"|\"JackAsk\"|\"Jack Ask\"|\"Dubstep Solves Everything\"|\"Frozen 2\"|\"iPhone Parody\"|\"Apple Parody\"                                                                                                                                                                             66\n",
       "Name: tags, dtype: int64"
      ]
     },
     "execution_count": 12,
     "metadata": {},
     "output_type": "execute_result"
    }
   ],
   "source": [
    "print(\"There are\", df['tags'].nunique() , \"tags.\")\n",
    "print(\"The 5 most commun tags are: \")\n",
    "df['tags'].value_counts()[0:5]  # top 5 tags\n",
    "# The method value_counts() returns the count of all unique values in the given index in descending order."
   ]
  }
 ],
 "metadata": {
  "kernelspec": {
   "display_name": "Python 3 (ipykernel)",
   "language": "python",
   "name": "python3"
  },
  "language_info": {
   "codemirror_mode": {
    "name": "ipython",
    "version": 3
   },
   "file_extension": ".py",
   "mimetype": "text/x-python",
   "name": "python",
   "nbconvert_exporter": "python",
   "pygments_lexer": "ipython3",
   "version": "3.9.2"
  }
 },
 "nbformat": 4,
 "nbformat_minor": 5
}
