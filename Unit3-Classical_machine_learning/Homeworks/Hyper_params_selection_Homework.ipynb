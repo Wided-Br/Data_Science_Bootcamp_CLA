{
 "cells": [
  {
   "cell_type": "code",
   "execution_count": 1,
   "id": "491280cc",
   "metadata": {},
   "outputs": [],
   "source": [
    "#Importing the dataset and the train_test_split() method\n",
    "import time\n",
    "from sklearn.datasets import load_digits\n",
    "from sklearn.model_selection import train_test_split"
   ]
  },
  {
   "cell_type": "markdown",
   "id": "fe8bc727",
   "metadata": {},
   "source": [
    "## 1. SVM with GridSearch "
   ]
  },
  {
   "cell_type": "code",
   "execution_count": 2,
   "id": "06d880ba",
   "metadata": {},
   "outputs": [],
   "source": [
    "from sklearn.svm import SVC\n",
    "from sklearn.model_selection import GridSearchCV\n",
    "from sklearn.metrics import classification_report"
   ]
  },
  {
   "cell_type": "code",
   "execution_count": 3,
   "id": "0dbedeba",
   "metadata": {},
   "outputs": [],
   "source": [
    "#Loading the dataset and splitting it to train, test\n",
    "data = load_digits()\n",
    "X = data.data\n",
    "Y = data.target\n",
    "\n",
    "X_train, X_test, y_train, y_test = train_test_split(X, Y, test_size = 0.2, random_state = 42)"
   ]
  },
  {
   "cell_type": "code",
   "execution_count": 4,
   "id": "ede8f78a",
   "metadata": {},
   "outputs": [],
   "source": [
    "#Setting the parameters by cross validation\n",
    "tuned_parameters = [{'kernel':['rbf','linear'], 'gamma':[1e-3, 1e-4], 'C':[1,10,100,1000]}]"
   ]
  },
  {
   "cell_type": "code",
   "execution_count": 5,
   "id": "c5526d59",
   "metadata": {},
   "outputs": [],
   "source": [
    "scores = ['precision', 'recall']"
   ]
  },
  {
   "cell_type": "code",
   "execution_count": 6,
   "id": "92234099",
   "metadata": {},
   "outputs": [],
   "source": [
    "def grid_search(X_train, y_train, X_test, y_test, tuned_params, metric):\n",
    "    start_time = time.time()\n",
    "    print(\"# Tuning hyper parameters for %s\" % metric)\n",
    "    clf = GridSearchCV(SVC(), tuned_params, scoring='%s_macro' % metric)\n",
    "    clf.fit(X_train, y_train)\n",
    "    print(\"Best parameters found \")\n",
    "    print(clf.best_params_)\n",
    "    print(\"Grid scores on development set: \")\n",
    "    print(clf.best_estimator_)\n",
    "    print()\n",
    "    means = clf.cv_results_['mean_test_score']\n",
    "    stds = clf.cv_results_['std_test_score']\n",
    "    for mean, std, params in zip(means, stds, clf.cv_results_['params']):\n",
    "        print(\"%0.3f (+/-%0.03f) for %r\" % (mean, std*2, params))\n",
    "        \n",
    "    print(\"Classification report\")\n",
    "    y_true, y_pred = y_test, clf.predict(X_test)\n",
    "    print(classification_report(y_true, y_pred))\n",
    "    print(\"--- %s seconds ---\" % (time.time() - start_time))\n",
    "    "
   ]
  },
  {
   "cell_type": "code",
   "execution_count": 7,
   "id": "547d0edd",
   "metadata": {},
   "outputs": [
    {
     "name": "stdout",
     "output_type": "stream",
     "text": [
      "# Tuning hyper parameters for precision\n",
      "Best parameters found \n",
      "{'C': 10, 'gamma': 0.001, 'kernel': 'rbf'}\n",
      "Grid scores on development set: \n",
      "SVC(C=10, gamma=0.001)\n",
      "\n",
      "0.988 (+/-0.008) for {'C': 1, 'gamma': 0.001, 'kernel': 'rbf'}\n",
      "0.972 (+/-0.016) for {'C': 1, 'gamma': 0.001, 'kernel': 'linear'}\n",
      "0.971 (+/-0.018) for {'C': 1, 'gamma': 0.0001, 'kernel': 'rbf'}\n",
      "0.972 (+/-0.016) for {'C': 1, 'gamma': 0.0001, 'kernel': 'linear'}\n",
      "0.990 (+/-0.007) for {'C': 10, 'gamma': 0.001, 'kernel': 'rbf'}\n",
      "0.972 (+/-0.016) for {'C': 10, 'gamma': 0.001, 'kernel': 'linear'}\n",
      "0.983 (+/-0.012) for {'C': 10, 'gamma': 0.0001, 'kernel': 'rbf'}\n",
      "0.972 (+/-0.016) for {'C': 10, 'gamma': 0.0001, 'kernel': 'linear'}\n",
      "0.990 (+/-0.007) for {'C': 100, 'gamma': 0.001, 'kernel': 'rbf'}\n",
      "0.972 (+/-0.016) for {'C': 100, 'gamma': 0.001, 'kernel': 'linear'}\n",
      "0.985 (+/-0.006) for {'C': 100, 'gamma': 0.0001, 'kernel': 'rbf'}\n",
      "0.972 (+/-0.016) for {'C': 100, 'gamma': 0.0001, 'kernel': 'linear'}\n",
      "0.990 (+/-0.007) for {'C': 1000, 'gamma': 0.001, 'kernel': 'rbf'}\n",
      "0.972 (+/-0.016) for {'C': 1000, 'gamma': 0.001, 'kernel': 'linear'}\n",
      "0.985 (+/-0.006) for {'C': 1000, 'gamma': 0.0001, 'kernel': 'rbf'}\n",
      "0.972 (+/-0.016) for {'C': 1000, 'gamma': 0.0001, 'kernel': 'linear'}\n",
      "Classification report\n",
      "              precision    recall  f1-score   support\n",
      "\n",
      "           0       1.00      1.00      1.00        33\n",
      "           1       1.00      1.00      1.00        28\n",
      "           2       1.00      1.00      1.00        33\n",
      "           3       1.00      0.97      0.99        34\n",
      "           4       1.00      1.00      1.00        46\n",
      "           5       0.98      0.98      0.98        47\n",
      "           6       0.97      1.00      0.99        35\n",
      "           7       0.97      0.97      0.97        34\n",
      "           8       1.00      1.00      1.00        30\n",
      "           9       0.97      0.97      0.97        40\n",
      "\n",
      "    accuracy                           0.99       360\n",
      "   macro avg       0.99      0.99      0.99       360\n",
      "weighted avg       0.99      0.99      0.99       360\n",
      "\n",
      "--- 3.948197364807129 seconds ---\n"
     ]
    }
   ],
   "source": [
    "# Grid Search using the precision only\n",
    "import warnings\n",
    "warnings.filterwarnings(\"ignore\")\n",
    "grid_search(X_train, y_train, X_test, y_test, tuned_parameters, scores[0])"
   ]
  },
  {
   "cell_type": "code",
   "execution_count": 8,
   "id": "0622f13e",
   "metadata": {},
   "outputs": [
    {
     "name": "stdout",
     "output_type": "stream",
     "text": [
      "# Tuning hyper parameters for recall\n",
      "Best parameters found \n",
      "{'C': 10, 'gamma': 0.001, 'kernel': 'rbf'}\n",
      "Grid scores on development set: \n",
      "SVC(C=10, gamma=0.001)\n",
      "\n",
      "0.987 (+/-0.008) for {'C': 1, 'gamma': 0.001, 'kernel': 'rbf'}\n",
      "0.971 (+/-0.017) for {'C': 1, 'gamma': 0.001, 'kernel': 'linear'}\n",
      "0.969 (+/-0.020) for {'C': 1, 'gamma': 0.0001, 'kernel': 'rbf'}\n",
      "0.971 (+/-0.017) for {'C': 1, 'gamma': 0.0001, 'kernel': 'linear'}\n",
      "0.989 (+/-0.008) for {'C': 10, 'gamma': 0.001, 'kernel': 'rbf'}\n",
      "0.971 (+/-0.017) for {'C': 10, 'gamma': 0.001, 'kernel': 'linear'}\n",
      "0.982 (+/-0.014) for {'C': 10, 'gamma': 0.0001, 'kernel': 'rbf'}\n",
      "0.971 (+/-0.017) for {'C': 10, 'gamma': 0.0001, 'kernel': 'linear'}\n",
      "0.989 (+/-0.008) for {'C': 100, 'gamma': 0.001, 'kernel': 'rbf'}\n",
      "0.971 (+/-0.017) for {'C': 100, 'gamma': 0.001, 'kernel': 'linear'}\n",
      "0.984 (+/-0.007) for {'C': 100, 'gamma': 0.0001, 'kernel': 'rbf'}\n",
      "0.971 (+/-0.017) for {'C': 100, 'gamma': 0.0001, 'kernel': 'linear'}\n",
      "0.989 (+/-0.008) for {'C': 1000, 'gamma': 0.001, 'kernel': 'rbf'}\n",
      "0.971 (+/-0.017) for {'C': 1000, 'gamma': 0.001, 'kernel': 'linear'}\n",
      "0.984 (+/-0.007) for {'C': 1000, 'gamma': 0.0001, 'kernel': 'rbf'}\n",
      "0.971 (+/-0.017) for {'C': 1000, 'gamma': 0.0001, 'kernel': 'linear'}\n",
      "Classification report\n",
      "              precision    recall  f1-score   support\n",
      "\n",
      "           0       1.00      1.00      1.00        33\n",
      "           1       1.00      1.00      1.00        28\n",
      "           2       1.00      1.00      1.00        33\n",
      "           3       1.00      0.97      0.99        34\n",
      "           4       1.00      1.00      1.00        46\n",
      "           5       0.98      0.98      0.98        47\n",
      "           6       0.97      1.00      0.99        35\n",
      "           7       0.97      0.97      0.97        34\n",
      "           8       1.00      1.00      1.00        30\n",
      "           9       0.97      0.97      0.97        40\n",
      "\n",
      "    accuracy                           0.99       360\n",
      "   macro avg       0.99      0.99      0.99       360\n",
      "weighted avg       0.99      0.99      0.99       360\n",
      "\n",
      "--- 3.8157851696014404 seconds ---\n"
     ]
    }
   ],
   "source": [
    "grid_search(X_train, y_train, X_test, y_test, tuned_parameters, scores[1])"
   ]
  },
  {
   "cell_type": "markdown",
   "id": "ae6c6f9c",
   "metadata": {},
   "source": [
    "## 2. Auto-SKlearn"
   ]
  },
  {
   "cell_type": "code",
   "execution_count": 9,
   "id": "df2635ca",
   "metadata": {},
   "outputs": [],
   "source": [
    "import autosklearn.classification as automl\n",
    "from sklearn.metrics import accuracy_score\n",
    "import warnings \n",
    "warnings.filterwarnings(\"ignore\")"
   ]
  },
  {
   "cell_type": "code",
   "execution_count": 10,
   "id": "30500a01",
   "metadata": {},
   "outputs": [],
   "source": [
    "clf = automl.AutoSklearnClassifier(time_left_for_this_task = 1*60, per_run_time_limit = 30, n_jobs = 1)"
   ]
  },
  {
   "cell_type": "code",
   "execution_count": 11,
   "id": "8f703d0e",
   "metadata": {},
   "outputs": [
    {
     "name": "stdout",
     "output_type": "stream",
     "text": [
      "[WARNING] [2022-04-03 17:55:01,368:Client-AutoML(1):ccccb2c0-b36e-11ec-8059-54e1adb09d4d] Capping the per_run_time_limit to 29.0 to have time for a least 2 models in each process.\n",
      "--- 50.90537619590759 seconds ---\n"
     ]
    }
   ],
   "source": [
    "start_time = time.time()\n",
    "clf.fit(X_train, y_train)\n",
    "print(\"--- %s seconds ---\" % (time.time() - start_time))"
   ]
  },
  {
   "cell_type": "code",
   "execution_count": 12,
   "id": "d8ad6763",
   "metadata": {},
   "outputs": [
    {
     "name": "stdout",
     "output_type": "stream",
     "text": [
      "auto-sklearn results:\n",
      "  Dataset name: ccccb2c0-b36e-11ec-8059-54e1adb09d4d\n",
      "  Metric: accuracy\n",
      "  Best validation score: 0.985263\n",
      "  Number of target algorithm runs: 8\n",
      "  Number of successful target algorithm runs: 6\n",
      "  Number of crashed target algorithm runs: 0\n",
      "  Number of target algorithms that exceeded the time limit: 2\n",
      "  Number of target algorithms that exceeded the memory limit: 0\n",
      "\n"
     ]
    }
   ],
   "source": [
    "print(clf.sprint_statistics())"
   ]
  },
  {
   "cell_type": "code",
   "execution_count": 13,
   "id": "324974b6",
   "metadata": {},
   "outputs": [],
   "source": [
    "predicitions = clf.predict(X_test)"
   ]
  },
  {
   "cell_type": "code",
   "execution_count": 14,
   "id": "ada056b1",
   "metadata": {},
   "outputs": [
    {
     "data": {
      "text/plain": [
       "0.9777777777777777"
      ]
     },
     "execution_count": 14,
     "metadata": {},
     "output_type": "execute_result"
    }
   ],
   "source": [
    "accuracy_score(y_test, predicitions)"
   ]
  },
  {
   "cell_type": "code",
   "execution_count": null,
   "id": "960dc6f9",
   "metadata": {},
   "outputs": [],
   "source": []
  }
 ],
 "metadata": {
  "kernelspec": {
   "display_name": "Python 3",
   "language": "python",
   "name": "python3"
  },
  "language_info": {
   "codemirror_mode": {
    "name": "ipython",
    "version": 3
   },
   "file_extension": ".py",
   "mimetype": "text/x-python",
   "name": "python",
   "nbconvert_exporter": "python",
   "pygments_lexer": "ipython3",
   "version": "3.6.9"
  }
 },
 "nbformat": 4,
 "nbformat_minor": 5
}
