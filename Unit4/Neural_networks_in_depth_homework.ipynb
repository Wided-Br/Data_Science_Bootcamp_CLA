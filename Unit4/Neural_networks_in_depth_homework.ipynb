{
 "cells": [
  {
   "cell_type": "code",
   "execution_count": 1,
   "id": "f39cac75",
   "metadata": {},
   "outputs": [],
   "source": [
    "import numpy as np\n",
    "from sklearn.datasets import load_digits\n",
    "from sklearn.model_selection import train_test_split\n",
    "import matplotlib.pyplot as plt"
   ]
  },
  {
   "cell_type": "code",
   "execution_count": 2,
   "id": "f029bf48",
   "metadata": {},
   "outputs": [
    {
     "name": "stdout",
     "output_type": "stream",
     "text": [
      "(1797, 64)\n",
      "(1797,)\n"
     ]
    }
   ],
   "source": [
    "digits = load_digits()\n",
    "X = digits.data\n",
    "Y = digits.target\n",
    "print(X.shape)\n",
    "print(Y.shape)"
   ]
  },
  {
   "cell_type": "code",
   "execution_count": 3,
   "id": "450e315f",
   "metadata": {},
   "outputs": [
    {
     "data": {
      "text/plain": [
       "<Figure size 432x288 with 0 Axes>"
      ]
     },
     "metadata": {},
     "output_type": "display_data"
    },
    {
     "data": {
      "image/png": "[encoded data removed]",
      "text/plain": [
       "<Figure size 1296x432 with 10 Axes>"
      ]
     },
     "metadata": {
      "needs_background": "light"
     },
     "output_type": "display_data"
    }
   ],
   "source": [
    "plt.gray()\n",
    "f, axarr = plt.subplots(2,5,figsize=(18, 6))\n",
    "axarr[0,0].imshow(digits.images[0])\n",
    "axarr[0,1].imshow(digits.images[1])\n",
    "axarr[0,2].imshow(digits.images[2])\n",
    "axarr[0,3].imshow(digits.images[3])\n",
    "axarr[0,4].imshow(digits.images[4])\n",
    "axarr[1,0].imshow(digits.images[5])\n",
    "axarr[1,1].imshow(digits.images[6])\n",
    "axarr[1,2].imshow(digits.images[7])\n",
    "axarr[1,3].imshow(digits.images[8])\n",
    "axarr[1,4].imshow(digits.images[9])\n",
    "plt.show()"
   ]
  },
  {
   "cell_type": "code",
   "execution_count": 4,
   "id": "e27df374",
   "metadata": {},
   "outputs": [],
   "source": [
    "x_train ,x_test ,y_train ,y_test = train_test_split(X,Y,test_size =0.2 )"
   ]
  },
  {
   "cell_type": "code",
   "execution_count": 5,
   "id": "8c4b0393",
   "metadata": {},
   "outputs": [],
   "source": [
    "v1 = y_train.shape[0]\n",
    "v2 = y_test.shape[0]\n",
    "k =  np.array([[0,0,0,0,0,0,0,0,0,0] for i in range(v1)])\n",
    "k1 =  np.array([[0,0,0,0,0,0,0,0,0,0] for i in range(v2)])\n",
    "\n",
    "c = 0 \n",
    "for i in y_train:\n",
    "    k[c][i] = 1 \n",
    "    c = c + 1     \n",
    "c = 0 \n",
    "for i in y_test:\n",
    "    k1[c][i] = 1 \n",
    "    c = c + 1  \n",
    "    \n",
    "y_train = k\n",
    "y_test = k1"
   ]
  },
  {
   "cell_type": "code",
   "execution_count": 6,
   "id": "c745a71f",
   "metadata": {},
   "outputs": [
    {
     "name": "stdout",
     "output_type": "stream",
     "text": [
      "The shape of x_train : (1437, 64)\n",
      "The shape of y_train : (1437, 10)\n"
     ]
    }
   ],
   "source": [
    "print(\"The shape of x_train :\", x_train.shape)\n",
    "print(\"The shape of y_train :\", y_train.shape)"
   ]
  },
  {
   "cell_type": "code",
   "execution_count": 7,
   "id": "aa852ba3",
   "metadata": {},
   "outputs": [],
   "source": [
    "def Softmax(x):\n",
    "    return np.exp(x) / np.sum(np.exp(x), axis=0)\n",
    "\n",
    "\n",
    "def sigmoid(x):\n",
    "    return 1 / (1 + np.exp(-x))\n",
    "\n",
    "\n",
    "# He initialization\n",
    "def initializeParametersHe(inputSize, hiddenLayerSize, outputSize):\n",
    "    W1 = np.random.randn(hiddenLayerSize, inputSize) * np.sqrt(2/inputSize)\n",
    "    W2 = np.random.randn(outputSize, hiddenLayerSize) * np.sqrt(2/hiddenLayerSize)\n",
    "    b1 = np.zeros((hiddenLayerSize, 1))\n",
    "    b2 = np.zeros((outputSize, 1))\n",
    "    # We store our parameters in a dict and return them\n",
    "    parameters = {\"W1\" : W1, \"b1\" : b1, \"W2\" : W2, \"b2\" : b2}\n",
    "    return parameters"
   ]
  },
  {
   "cell_type": "code",
   "execution_count": 8,
   "id": "6eae3ff7",
   "metadata": {},
   "outputs": [],
   "source": [
    "def forwardPropagation(X, Y, parameters):\n",
    "    W1, W2, b1, b2 = parameters[\"W1\"], parameters[\"W2\"], parameters[\"b1\"], parameters[\"b2\"]\n",
    "    \n",
    "    Z1 = np.dot(X, W1.T) + b1.T\n",
    "    A1 = sigmoid(Z1)\n",
    "    Z2 = np.dot(A1, W2.T) + b2.T\n",
    "    A2 = Softmax(Z2)\n",
    "    \n",
    "    cache = (Z1, A1, W1, b1, Z2, A2, W2, b2)\n",
    "    cost = -(1/Y.shape[0])*np.sum(Y*np.log(A2))\n",
    "    \n",
    "    return cost, cache, A2"
   ]
  },
  {
   "cell_type": "code",
   "execution_count": 9,
   "id": "0cb761b8",
   "metadata": {},
   "outputs": [],
   "source": [
    "def backwardPropagation(X, y, parameters):\n",
    "    m = X.shape[0]\n",
    "    (Z1, A1, W1, b1, Z2, A2, W2, b2) = cache \n",
    "    \n",
    "    dZ2 = A2 - y\n",
    "    dW2 = np.dot(dZ2.T, A1) / m\n",
    "    db2 = np.sum(dZ2.T, axis=1, keepdims = True) / m\n",
    "    \n",
    "    dA1 = np.dot(dZ2, W2)\n",
    "    dZ1 = np.multiply(dA1, A1 * (1-A1)) / m\n",
    "    dW1 = np.dot(dZ1.T, X) / m\n",
    "    db1 = np.sum(dZ1.T, axis = 1, keepdims = True) / m\n",
    "    \n",
    "    gradients = {\"dZ2\":dZ2, \"dW2\" : dW2, \"db2\" : db2, \"dZ1\": dZ1, \"dW1\":dW1, \"db1\":db1}\n",
    "    return gradients"
   ]
  },
  {
   "cell_type": "code",
   "execution_count": 10,
   "id": "ef94d048",
   "metadata": {},
   "outputs": [],
   "source": [
    "def updateParameters(parameters, gradients, learningRate):\n",
    "    parameters[\"W1\"] = parameters[\"W1\"] - learningRate * gradients[\"dW1\"]\n",
    "    parameters[\"W2\"] = parameters[\"W2\"] - learningRate * gradients[\"dW2\"]\n",
    "    parameters[\"b1\"] = parameters[\"b1\"] - learningRate * gradients[\"db1\"]\n",
    "    parameters[\"b2\"] = parameters[\"b2\"] - learningRate * gradients[\"db2\"]\n",
    "    return parameters"
   ]
  },
  {
   "cell_type": "code",
   "execution_count": 11,
   "id": "d09454c0",
   "metadata": {},
   "outputs": [],
   "source": [
    "hiddenLayerSize = 160 # number of hidden layer neurons (160)\n",
    "inputSize = x_train.shape[1] # number of input features (64)\n",
    "outputSize = y_train.shape[1] # number of output features (10)\n",
    "parameters = initializeParametersHe(inputSize, hiddenLayerSize, outputSize)\n",
    "\n",
    "epoch = 300\n",
    "learningRate = 0.015\n",
    "losses = np.zeros((epoch, 1))\n",
    "\n",
    "for i in range(epoch):\n",
    "    losses[i,0], cache, A2 = forwardPropagation(x_train, y_train, parameters)\n",
    "    gradients = backwardPropagation(x_train, y_train, cache)\n",
    "    parameters = updateParameters(parameters, gradients, learningRate)"
   ]
  },
  {
   "cell_type": "code",
   "execution_count": 12,
   "id": "0e4875cb",
   "metadata": {},
   "outputs": [
    {
     "data": {
      "image/png": "[encoded data removed]",
      "text/plain": [
       "<Figure size 432x288 with 1 Axes>"
      ]
     },
     "metadata": {
      "needs_background": "light"
     },
     "output_type": "display_data"
    }
   ],
   "source": [
    "plt.figure()\n",
    "plt.plot(losses)\n",
    "plt.xlabel(\"EPOCHS\")\n",
    "plt.ylabel(\"Loss value\")\n",
    "plt.show()"
   ]
  },
  {
   "cell_type": "code",
   "execution_count": 13,
   "id": "0a436054",
   "metadata": {},
   "outputs": [
    {
     "name": "stdout",
     "output_type": "stream",
     "text": [
      "0.8305555555555556\n"
     ]
    }
   ],
   "source": [
    "from sklearn.metrics import accuracy_score\n",
    "\n",
    "cost,_,a2 = forwardPropagation(x_test,y_test,parameters)\n",
    "y_pred=np.argmax(a2 ,axis=1)\n",
    "y_true=np.argmax(y_test, axis=1)\n",
    "\n",
    "print(accuracy_score(y_true, y_pred))"
   ]
  },
  {
   "cell_type": "code",
   "execution_count": null,
   "id": "c37d73ba",
   "metadata": {},
   "outputs": [],
   "source": []
  }
 ],
 "metadata": {
  "kernelspec": {
   "display_name": "Python 3 (ipykernel)",
   "language": "python",
   "name": "python3"
  },
  "language_info": {
   "codemirror_mode": {
    "name": "ipython",
    "version": 3
   },
   "file_extension": ".py",
   "mimetype": "text/x-python",
   "name": "python",
   "nbconvert_exporter": "python",
   "pygments_lexer": "ipython3",
   "version": "3.10.3"
  }
 },
 "nbformat": 4,
 "nbformat_minor": 5
}
